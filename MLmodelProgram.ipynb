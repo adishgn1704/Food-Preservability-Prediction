{
 "cells": [
  {
   "cell_type": "code",
   "execution_count": 7,
   "id": "40150d8b",
   "metadata": {},
   "outputs": [],
   "source": [
    "import random\n",
    "import pandas as pd\n",
    "w1,w2,w3,w4,w5,w6,w7=[0.840336133,0.8403361347,0.8403361325,0.8403361337,0.8403361384,0.8403361353,0.840336117]\n",
    "vals=[]\n",
    "for i in range(1000000):\n",
    "    x1=random.randint(1,10)\n",
    "    x2=random.randint(0,80) \n",
    "    x3=random.randint(1,5)\n",
    "    x4=random.randint(1,2)\n",
    "    x5=random.randint(1,10)\n",
    "    x6=random.randint(1,10)\n",
    "    x7=random.randint(1,2)\n",
    "    eq=x1*w1+x2*w2+x3*w3+x4*w4+x5*w5+x6*w6+x7*w7\n",
    "    if eq>53:\n",
    "        cls=1\n",
    "    else:\n",
    "        cls=0\n",
    "    vals.append([x1,x2,x3,x4,x5,x6,x7,eq,cls])\n",
    "df=pd.DataFrame(vals,columns=['Natural_Factors','Infestation_Control','Shipping','Location_history','Work_Force','Storage','Finance','Preservability_Factor','Efficiency']) \n",
    "df.to_csv('preserve.csv',index=False)"
   ]
  },
  {
   "cell_type": "code",
   "execution_count": 4,
   "id": "5d9bf34d",
   "metadata": {},
   "outputs": [
    {
     "name": "stdout",
     "output_type": "stream",
     "text": [
      "52.539636969840906\n"
     ]
    }
   ],
   "source": []
  },
  {
   "cell_type": "code",
   "execution_count": null,
   "id": "d93662c5",
   "metadata": {},
   "outputs": [],
   "source": [
    "import pandas as pd\n",
    "import seaborn as sns\n",
    "import matplotlib.pyplot as plt\n",
    "import numpy as np\n",
    "%matplotlib inline\n",
    "data=pd.read_csv('preserve.csv')\n",
    "sns.pairplot(data,hue='Efficiency')"
   ]
  },
  {
   "cell_type": "code",
   "execution_count": 14,
   "id": "3c83c5e0",
   "metadata": {},
   "outputs": [
    {
     "name": "stdout",
     "output_type": "stream",
     "text": [
      "Accuracy (LGR):  100.0\n",
      "[0 0 0 0 0 0 0 0 1 0 0 0 0 1 1 1 1 0 0 1 1 1 0 1 0 1 1 1 1 1 1 0 1 0 1 0 0\n",
      " 1 1 0 0 1 0 1 1 0 1 1 0 1 0 0 1 1 1 0 0 1 1 1 1 1 0 0 1 1 0 0 1 1 0 1 1 0\n",
      " 0 0 0 0 1 0 1 1 1 0 1 0 1 0 1 0 1 0 1 0 1 0 1 0 0 0]\n"
     ]
    }
   ],
   "source": [
    "from sklearn.linear_model import LogisticRegression\n",
    "mdl = LogisticRegression()\n",
    "data=pd.read_csv('preserve.csv')\n",
    "X=data[['Natural_Factors','Infestation_Control','Shipping','Location_history','Work_Force','Storage','Finance','Preservability_Factor']]\n",
    "Y=data['Efficiency']\n",
    "mdl.fit(X, Y)\n",
    "print(\"Accuracy (LGR): \",mdl.score(X[:100], Y[:100])*100)\n",
    "print( mdl.predict(X)[:100])"
   ]
  },
  {
   "cell_type": "code",
   "execution_count": null,
   "id": "c55b5558",
   "metadata": {},
   "outputs": [],
   "source": []
  }
 ],
 "metadata": {
  "kernelspec": {
   "display_name": "Python 3 (ipykernel)",
   "language": "python",
   "name": "python3"
  },
  "language_info": {
   "codemirror_mode": {
    "name": "ipython",
    "version": 3
   },
   "file_extension": ".py",
   "mimetype": "text/x-python",
   "name": "python",
   "nbconvert_exporter": "python",
   "pygments_lexer": "ipython3",
   "version": "3.9.12"
  }
 },
 "nbformat": 4,
 "nbformat_minor": 5
}
